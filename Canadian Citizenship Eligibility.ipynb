{
 "cells": [
  {
   "cell_type": "markdown",
   "metadata": {},
   "source": [
    "### Physical presence requirements for Canadian Citizenship\n",
    "\n",
    "To be eligible for Canadian citizenship, you must have been physically present in Canada for at least 1,095 days in the five years immediately **before** the date of your application. We encourage applicants to apply with more than the minimum requirement of 1,095 days of physical presence, to account for any miscalculations of absences, or any other aspect that could lower the physical presence total below 1,095 days. **Please note that you cannot meet the physical presence requirement without a minimum of two (2) years as a permanent resident.**\n",
    "\n",
    "When calculating your time in Canada:\n",
    "\n",
    " - only the five (5) years immediately before the date of your application are taken into account;\n",
    " - each day you were physically present in Canada as an authorized temporary resident or protected person **before** you became a permanent resident counts as half a day (up to a maximum of 365 days);\n",
    " - each day you were physically present in Canada **after** you became a permanent resident counts as one day;\n",
    " - time spent serving a sentence for an offence in Canada (e.g. serving a term of imprisonment, probation and/or parole) cannot be counted towards your physical presence - there are some [exceptions](https://eservices.cic.gc.ca/rescalc/redir.do?redir=faq#Q11).\n",
    "\n",
    "In order to help you decide when to apply, the physical presence calculator calculates if and when you will meet the 1,095 day requirement.\n",
    "\n",
    "Source: [https://eservices.cic.gc.ca/rescalc/resCalcStartNew.do?lang=en](https://eservices.cic.gc.ca/rescalc/resCalcStartNew.do?lang=en)"
   ]
  },
  {
   "cell_type": "code",
   "execution_count": 1,
   "metadata": {},
   "outputs": [],
   "source": [
    "from datetime import datetime, timezone, timedelta\n",
    "from dateutil.parser import parse\n",
    "from dateutil import tz\n",
    "from memair import Memair\n",
    "import time\n",
    "\n",
    "# Memair Access Token\n",
    "access_token = 'foo'\n",
    "# Date of permanent residency\n",
    "pr_date = datetime(2016,2,14).date()"
   ]
  },
  {
   "cell_type": "code",
   "execution_count": 2,
   "metadata": {},
   "outputs": [
    {
     "name": "stdout",
     "output_type": "stream",
     "text": [
      "Collecting & processing locations\n",
      ". . . . . . . . . . . . . . . . . . . . . . . . . . . . . . . . . . . . . . . . . . . . . . . . . . . . . . . . . . . . . . . . . . . . . . . . . . . . . . . . . . . . . . . . . . . . . . . . . . . . . . . . . . . . . . . . . . . . . . . . . . . . . . . . . . . . . . . . . . . . . . . . . . . . . . . . . . . . . . . . . . . . . . . . . . . . . . . . . . . . . . . . . . . . . . . . . . . . . . . . . . . . . . . . . . . . . . . . . . . . . . . . . . . . . . . . . . . . . . . . . . . . . . . . . . . . . . . . . . . . . . . . . . . . . . . . . . . . . . . . . . . . . . . . . . . . . . . . . . . . . . . . . . . . . . . . . . . . . . . . . . . . . . . . . . . . . . . . . . . . . . . . . . . . . . . . . . . . . . . . . . . . . . . . . . . . . . . . . . . . . . . . . . . . . . . . . . . . . . . . . . . . . . . . . . . . . . . . . . . . . . . . . . . . . . . . . . . . . . . . . . . . . . . . . . . . . . . . . . . . . \n",
      "Finished processing!\n"
     ]
    }
   ],
   "source": [
    "canadian_timezones = ['America/Atikokan', 'America/Blanc-Sablon', 'America/Cambridge_Bay',\n",
    "                      'America/Creston', 'America/Dawson', 'America/Dawson_Creek',\n",
    "                      'America/Edmonton', 'America/Fort_Nelson', 'America/Glace_Bay',\n",
    "                      'America/Goose_Bay', 'America/Halifax', 'America/Inuvik',\n",
    "                      'America/Iqaluit', 'America/Moncton', 'America/Montreal',\n",
    "                      'America/Nipigon', 'America/Pangnirtung', 'America/Rainy_River',\n",
    "                      'America/Rankin_Inlet', 'America/Regina', 'America/Resolute',\n",
    "                      'America/St_Johns', 'America/Swift_Current', 'America/Thunder_Bay',\n",
    "                      'America/Toronto', 'America/Vancouver', 'America/Whitehorse',\n",
    "                      'America/Winnipeg', 'America/Yellowknife']\n",
    "user = Memair(access_token)\n",
    "after = -1\n",
    "dates_in_canada_post_pr = set()\n",
    "dates_in_canada_pre_pr = set()\n",
    "earliest_eligible_date = datetime.now().date() - timedelta(days=365*5)\n",
    "\n",
    "print('Collecting & processing locations')\n",
    "\n",
    "while True:\n",
    "    query = f'''\n",
    "      query {{\n",
    "        Locations(\n",
    "          first: 10000\n",
    "          after: {after}\n",
    "          from_timestamp: \"{earliest_eligible_date}\"\n",
    "          order: desc\n",
    "          order_by: timestamp\n",
    "        )\n",
    "        {{\n",
    "          id\n",
    "          timestamp\n",
    "          timezone\n",
    "        }}\n",
    "      }}\n",
    "\n",
    "    '''\n",
    "    response = user.query(query)\n",
    "\n",
    "    if len(response['data']['Locations']) == 0:\n",
    "        break\n",
    "        \n",
    "    for location in response['data']['Locations']:\n",
    "        if location['timezone'] in canadian_timezones:\n",
    "            timezone = tz.gettz(location['timezone'])\n",
    "            date = parse(location['timestamp']).astimezone(tz=timezone).date()\n",
    "            if date >= pr_date:\n",
    "                dates_in_canada_post_pr.add(date)\n",
    "            else:\n",
    "                dates_in_canada_pre_pr.add(date)\n",
    "\n",
    "    after = response['data']['Locations'][-1]['id']\n",
    "    time.sleep(5)\n",
    "    print('. ', end='')\n",
    "\n",
    "print(f'\\nFinished processing!')"
   ]
  },
  {
   "cell_type": "code",
   "execution_count": 3,
   "metadata": {},
   "outputs": [
    {
     "name": "stdout",
     "output_type": "stream",
     "text": [
      "You have been in Canada for 764 days since becoming a permanent resident and 506 days before becoming a permanent resident and within 5 years.\n",
      "You are eligible for an additional 365 pre permanent resident days.\n",
      "Your total eligible days in Canada is 1129\n",
      "Eligiblity status: eh+\n"
     ]
    }
   ],
   "source": [
    "post_pr_days = len(dates_in_canada_post_pr)\n",
    "pre_pr_days = len(dates_in_canada_pre_pr)\n",
    "eligible_pre_pr_days = min(pre_pr_days, 365)\n",
    "eligible_days = post_pr_days + eligible_pre_pr_days\n",
    "eligibility_status = eligible_days > 1095\n",
    "\n",
    "print(f'You have been in Canada for {post_pr_days} days since becoming a permanent resident and {pre_pr_days} days before becoming a permanent resident and within 5 years.')\n",
    "print(f'You are eligible for an additional {eligible_pre_pr_days} pre permanent resident days.')\n",
    "print(f'Your total eligible days in Canada is {eligible_days}')\n",
    "print('Eligiblity status: ' + ('eh+' if eligibility_status else 'n/eh'))"
   ]
  }
 ],
 "metadata": {
  "kernelspec": {
   "display_name": "Python 3",
   "language": "python",
   "name": "python3"
  },
  "language_info": {
   "codemirror_mode": {
    "name": "ipython",
    "version": 3
   },
   "file_extension": ".py",
   "mimetype": "text/x-python",
   "name": "python",
   "nbconvert_exporter": "python",
   "pygments_lexer": "ipython3",
   "version": "3.7.3"
  }
 },
 "nbformat": 4,
 "nbformat_minor": 2
}
