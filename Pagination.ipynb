{
 "cells": [
  {
   "cell_type": "code",
   "execution_count": 1,
   "metadata": {},
   "outputs": [],
   "source": [
    "from memair import Memair\n",
    "import collections\n",
    "# Use Otto the sandbox user's access token or create your own at https://memair.com/temporary_access_token\n",
    "access_token = '0000000000000000000000000000000000000000000000000000000000000000'\n",
    "\n",
    "user = Memair(access_token)"
   ]
  },
  {
   "cell_type": "code",
   "execution_count": 2,
   "metadata": {},
   "outputs": [],
   "source": [
    "first_page_query = '''\n",
    "  {\n",
    "    Locations(\n",
    "      first: 5\n",
    "      order_by: timestamp\n",
    "      order: asc\n",
    "    ) {\n",
    "      id\n",
    "      lat\n",
    "      lon\n",
    "    }\n",
    "  }\n",
    "\n",
    "'''\n",
    "\n",
    "first_page = user.query(first_page_query)['data']['Locations']\n",
    "\n",
    "# Extract last id of page for use in next page\n",
    "last_id_of_first_page = first_page[-1]['id']"
   ]
  },
  {
   "cell_type": "code",
   "execution_count": 3,
   "metadata": {},
   "outputs": [],
   "source": [
    "second_page_query = '''\n",
    "  {\n",
    "    Locations(\n",
    "      first: 5\n",
    "      order_by: timestamp\n",
    "      order: asc\n",
    "      after: %s\n",
    "    ) {\n",
    "      id\n",
    "      lat\n",
    "      lon\n",
    "    }\n",
    "  }\n",
    "\n",
    "''' % last_id_of_first_page # setting last id of previous page as the after argument\n",
    "\n",
    "second_page = user.query(second_page_query)['data']['Locations']"
   ]
  },
  {
   "cell_type": "code",
   "execution_count": 4,
   "metadata": {},
   "outputs": [
    {
     "data": {
      "text/plain": [
       "10"
      ]
     },
     "execution_count": 4,
     "metadata": {},
     "output_type": "execute_result"
    }
   ],
   "source": [
    "# Total locations returned\n",
    "locations = first_page + second_page\n",
    "len(locations)"
   ]
  },
  {
   "cell_type": "code",
   "execution_count": 5,
   "metadata": {},
   "outputs": [
    {
     "data": {
      "text/plain": [
       "Counter({'42884351': 1,\n",
       "         '42986348': 1,\n",
       "         '42884366': 1,\n",
       "         '42986347': 1,\n",
       "         '42986346': 1,\n",
       "         '42986345': 1,\n",
       "         '42986344': 1,\n",
       "         '42986343': 1,\n",
       "         '42986342': 1,\n",
       "         '42986341': 1})"
      ]
     },
     "execution_count": 5,
     "metadata": {},
     "output_type": "execute_result"
    }
   ],
   "source": [
    "# Ensure collected locations are unique\n",
    "collections.Counter(location['id'] for location in locations)"
   ]
  }
 ],
 "metadata": {
  "kernelspec": {
   "display_name": "Python 3",
   "language": "python",
   "name": "python3"
  },
  "language_info": {
   "codemirror_mode": {
    "name": "ipython",
    "version": 3
   },
   "file_extension": ".py",
   "mimetype": "text/x-python",
   "name": "python",
   "nbconvert_exporter": "python",
   "pygments_lexer": "ipython3",
   "version": "3.7.0"
  }
 },
 "nbformat": 4,
 "nbformat_minor": 2
}
