{
 "cells": [
  {
   "cell_type": "code",
   "execution_count": 1,
   "metadata": {},
   "outputs": [],
   "source": [
    "from memair import Memair\n",
    "# Use Otto the sandbox user's access token or create your own at https://memair.com/temporary_access_token\n",
    "access_token = '0000000000000000000000000000000000000000000000000000000000000000'\n",
    "\n",
    "user = Memair(access_token)"
   ]
  },
  {
   "cell_type": "code",
   "execution_count": 2,
   "metadata": {},
   "outputs": [
    {
     "data": {
      "text/plain": [
       "{'data': {'UserDetails': [{'email': 'otto@memair.com',\n",
       "    'biometric_count': 58735,\n",
       "    'digital_activity_count': 0,\n",
       "    'emotion_count': 0,\n",
       "    'journal_count': 2,\n",
       "    'location_count': 108745,\n",
       "    'physical_activity_count': 0}]}}"
      ]
     },
     "execution_count": 2,
     "metadata": {},
     "output_type": "execute_result"
    }
   ],
   "source": [
    "user_details = user.query('''\n",
    "{\n",
    "  UserDetails(){\n",
    "    email\n",
    "    biometric_count\n",
    "    digital_activity_count\n",
    "    emotion_count\n",
    "    journal_count\n",
    "    location_count\n",
    "    physical_activity_count    \n",
    "  }\n",
    "}\n",
    "''')\n",
    "\n",
    "user_details"
   ]
  },
  {
   "cell_type": "code",
   "execution_count": null,
   "metadata": {},
   "outputs": [],
   "source": []
  }
 ],
 "metadata": {
  "kernelspec": {
   "display_name": "Python 3",
   "language": "python",
   "name": "python3"
  },
  "language_info": {
   "codemirror_mode": {
    "name": "ipython",
    "version": 3
   },
   "file_extension": ".py",
   "mimetype": "text/x-python",
   "name": "python",
   "nbconvert_exporter": "python",
   "pygments_lexer": "ipython3",
   "version": "3.7.0"
  }
 },
 "nbformat": 4,
 "nbformat_minor": 2
}
