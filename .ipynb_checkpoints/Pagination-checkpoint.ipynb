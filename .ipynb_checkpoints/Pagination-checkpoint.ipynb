{
 "cells": [
  {
   "cell_type": "code",
   "execution_count": 1,
   "metadata": {},
   "outputs": [],
   "source": [
    "from memair import Memair\n",
    "# Use Otto the sandbox user's access token or create your own at https://memair.com/temporary_access_token\n",
    "access_token = '0000000000000000000000000000000000000000000000000000000000000000'\n",
    "\n",
    "user = Memair(access_token)"
   ]
  },
  {
   "cell_type": "code",
   "execution_count": 2,
   "metadata": {},
   "outputs": [],
   "source": [
    "first_page_query = '''\n",
    "    {\n",
    "      Locations(\n",
    "        first: 1000\n",
    "        order_by: timestamp\n",
    "        order: asc\n",
    "      ) {\n",
    "        id\n",
    "        lat\n",
    "        lon\n",
    "      }\n",
    "    }\n",
    "\n",
    "'''\n",
    "\n",
    "first_page = user.query(first_page_query)['data']['Locations']\n",
    "\n",
    "last_id_of_first_page = first_page[-1]['id']"
   ]
  },
  {
   "cell_type": "code",
   "execution_count": 3,
   "metadata": {},
   "outputs": [],
   "source": [
    "second_page_query = '''\n",
    "    {{\n",
    "      Locations(\n",
    "        first: 1000e\n",
    "        after: %s\n",
    "      ) {{\n",
    "        id\n",
    "        lat\n",
    "        lon\n",
    "      }}\n",
    "    }}\n",
    "\n",
    "''' % last_id_of_first_page\n",
    "\n",
    "second_page = user.query(first_page_query)['data']['Locations']"
   ]
  },
  {
   "cell_type": "code",
   "execution_count": 4,
   "metadata": {},
   "outputs": [
    {
     "name": "stdout",
     "output_type": "stream",
     "text": [
      "2000\n"
     ]
    }
   ],
   "source": [
    "locations = first_page + second_page\n",
    "print(len(locations))"
   ]
  },
  {
   "cell_type": "code",
   "execution_count": null,
   "metadata": {},
   "outputs": [],
   "source": []
  }
 ],
 "metadata": {
  "kernelspec": {
   "display_name": "Python 3",
   "language": "python",
   "name": "python3"
  },
  "language_info": {
   "codemirror_mode": {
    "name": "ipython",
    "version": 3
   },
   "file_extension": ".py",
   "mimetype": "text/x-python",
   "name": "python",
   "nbconvert_exporter": "python",
   "pygments_lexer": "ipython3",
   "version": "3.7.0"
  }
 },
 "nbformat": 4,
 "nbformat_minor": 2
}
