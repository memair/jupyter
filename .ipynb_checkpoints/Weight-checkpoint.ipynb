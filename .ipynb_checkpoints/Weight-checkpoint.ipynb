{
 "cells": [
  {
   "cell_type": "code",
   "execution_count": 4,
   "metadata": {},
   "outputs": [],
   "source": [
    "# https://memair.com/generate_own_access_token\n",
    "access_token = '0000000000000000000000000000000000000000000000000000000000000000'"
   ]
  },
  {
   "cell_type": "code",
   "execution_count": 5,
   "metadata": {},
   "outputs": [],
   "source": [
    "from memair import Memair\n",
    "import pandas as pd"
   ]
  },
  {
   "cell_type": "code",
   "execution_count": 6,
   "metadata": {},
   "outputs": [],
   "source": [
    "user = Memair(access_token)\n",
    "query = '''\n",
    "{\n",
    "  Biometrics(\n",
    "    first: 10000\n",
    "    order: timestamp_asc\n",
    "    type:  weight\n",
    "  ) {\n",
    "    value\n",
    "    timestamp\n",
    "  }\n",
    "}\n",
    "'''\n",
    "response = user.query(query)\n",
    "\n",
    "weights = pd.DataFrame.from_dict(response['data']['Biometrics'])\n",
    "weights['timestamp'] = pd.to_datetime(weights['timestamp'])\n",
    "weights.set_index('timestamp', inplace=True)"
   ]
  },
  {
   "cell_type": "code",
   "execution_count": 7,
   "metadata": {},
   "outputs": [
    {
     "data": {
      "text/plain": [
       "<matplotlib.axes._subplots.AxesSubplot at 0x11b6899e8>"
      ]
     },
     "execution_count": 7,
     "metadata": {},
     "output_type": "execute_result"
    }
   ],
   "source": [
    "weights.plot()"
   ]
  }
 ],
 "metadata": {
  "kernelspec": {
   "display_name": "Python 3",
   "language": "python",
   "name": "python3"
  },
  "language_info": {
   "codemirror_mode": {
    "name": "ipython",
    "version": 3
   },
   "file_extension": ".py",
   "mimetype": "text/x-python",
   "name": "python",
   "nbconvert_exporter": "python",
   "pygments_lexer": "ipython3",
   "version": "3.7.0"
  }
 },
 "nbformat": 4,
 "nbformat_minor": 2
}
