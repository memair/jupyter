{
 "cells": [
  {
   "cell_type": "code",
   "execution_count": 1,
   "metadata": {},
   "outputs": [],
   "source": [
    "import pygal\n",
    "from IPython.display import SVG, display\n",
    "from memair import Memair\n",
    "# Use Otto the sandbox user's access token or create your own at https://memair.com/temporary_access_token\n",
    "access_token = '0000000000000000000000000000000000000000000000000000000000000000'\n",
    "\n",
    "user = Memair(access_token)"
   ]
  },
  {
   "cell_type": "code",
   "execution_count": 2,
   "metadata": {},
   "outputs": [
    {
     "data": {
      "text/plain": [
       "{'data': {'CreateInsight': {'id': '10',\n",
       "   'chart': {'title': 'Social Media Usage',\n",
       "    'type': 'line',\n",
       "    'category_axis': ['Monday', 'Tuesday', 'Wednesday', 'Thursday', 'Friday'],\n",
       "    'series': [{'label': 'facebook', 'data': [2.1, 2.4, 1.8, 4.3, 2.7]},\n",
       "     {'label': 'twitter', 'data': [1.6, 0.4, 0.8, 2.4, 1.2]}]}}}}"
      ]
     },
     "execution_count": 2,
     "metadata": {},
     "output_type": "execute_result"
    }
   ],
   "source": [
    "response = user.query('''\n",
    "    mutation { \n",
    "      CreateInsight(\n",
    "        chart: {\n",
    "          title: \"Social Media Usage\"\n",
    "          type: line\n",
    "          category_axis: [\"Monday\", \"Tuesday\", \"Wednesday\", \"Thursday\", \"Friday\"]\n",
    "          series: [\n",
    "            {label: \"facebook\" data: [2.1, 2.4, 1.8, 4.3, 2.7]}\n",
    "            {label: \"twitter\" data: [1.6, 0.4, 0.8, 2.4, 1.2]}\n",
    "          ]\n",
    "        }\n",
    "      )\n",
    "      {\n",
    "        id\n",
    "        chart\n",
    "      }\n",
    "    }\n",
    "''')\n",
    "chart = response['data']['CreateInsight']['chart']\n",
    "response"
   ]
  },
  {
   "cell_type": "code",
   "execution_count": 3,
   "metadata": {},
   "outputs": [
    {
     "data": {
      "text/plain": [
       "[['facebook', [2.1, 2.4, 1.8, 4.3, 2.7]],\n",
       " ['twitter', [1.6, 0.4, 0.8, 2.4, 1.2]]]"
      ]
     },
     "execution_count": 3,
     "metadata": {},
     "output_type": "execute_result"
    }
   ],
   "source": [
    "data = []\n",
    "for series in chart['series']:\n",
    "    data.append([series['label'], series['data']])\n",
    "data"
   ]
  },
  {
   "cell_type": "code",
   "execution_count": 4,
   "metadata": {},
   "outputs": [],
   "source": [
    "stackedline_chart = pygal.StackedLine(fill=True)\n",
    "stackedline_chart.title = \"Hours spend on Social Media\"\n",
    "stackedline_chart.x_labels = chart['category_axis']"
   ]
  },
  {
   "cell_type": "code",
   "execution_count": 5,
   "metadata": {},
   "outputs": [],
   "source": [
    "for label, data_points in data:\n",
    "    stackedline_chart.add(label, data_points)"
   ]
  },
  {
   "cell_type": "code",
   "execution_count": 6,
   "metadata": {},
   "outputs": [
    {
     "data": {
      "image/svg+xml": [
       "<svg class=\"pygal-chart\" id=\"chart-5b67b3db-e42e-4b56-9ce8-2ea9a5d0b8e4\" viewBox=\"0 0 800 600\" xmlns=\"http://www.w3.org/2000/svg\" xmlns:xlink=\"http://www.w3.org/1999/xlink\"><!--Generated with pygal 2.4.0 (etree) ©Kozea 2012-2016 on 2018-11-28--><!--http://pygal.org--><!--http://github.com/Kozea/pygal--><defs><style type=\"text/css\">#chart-5b67b3db-e42e-4b56-9ce8-2ea9a5d0b8e4{-webkit-user-select:none;-webkit-font-smoothing:antialiased;font-family:Consolas,&quot;Liberation Mono&quot;,Menlo,Courier,monospace}#chart-5b67b3db-e42e-4b56-9ce8-2ea9a5d0b8e4 .title{font-family:Consolas,&quot;Liberation Mono&quot;,Menlo,Courier,monospace;font-size:16px}#chart-5b67b3db-e42e-4b56-9ce8-2ea9a5d0b8e4 .legends .legend text{font-family:Consolas,&quot;Liberation Mono&quot;,Menlo,Courier,monospace;font-size:14px}#chart-5b67b3db-e42e-4b56-9ce8-2ea9a5d0b8e4 .axis text{font-family:Consolas,&quot;Liberation Mono&quot;,Menlo,Courier,monospace;font-size:10px}#chart-5b67b3db-e42e-4b56-9ce8-2ea9a5d0b8e4 .axis text.major{font-family:Consolas,&quot;Liberation Mono&quot;,Menlo,Courier,monospace;font-size:10px}#chart-5b67b3db-e42e-4b56-9ce8-2ea9a5d0b8e4 .text-overlay text.value{font-family:Consolas,&quot;Liberation Mono&quot;,Menlo,Courier,monospace;font-size:16px}#chart-5b67b3db-e42e-4b56-9ce8-2ea9a5d0b8e4 .text-overlay text.label{font-family:Consolas,&quot;Liberation Mono&quot;,Menlo,Courier,monospace;font-size:10px}#chart-5b67b3db-e42e-4b56-9ce8-2ea9a5d0b8e4 .tooltip{font-family:Consolas,&quot;Liberation Mono&quot;,Menlo,Courier,monospace;font-size:14px}#chart-5b67b3db-e42e-4b56-9ce8-2ea9a5d0b8e4 text.no_data{font-family:Consolas,&quot;Liberation Mono&quot;,Menlo,Courier,monospace;font-size:64px}\n",
       "#chart-5b67b3db-e42e-4b56-9ce8-2ea9a5d0b8e4{background-color:rgba(249,249,249,1)}#chart-5b67b3db-e42e-4b56-9ce8-2ea9a5d0b8e4 path,#chart-5b67b3db-e42e-4b56-9ce8-2ea9a5d0b8e4 line,#chart-5b67b3db-e42e-4b56-9ce8-2ea9a5d0b8e4 rect,#chart-5b67b3db-e42e-4b56-9ce8-2ea9a5d0b8e4 circle{-webkit-transition:150ms;-moz-transition:150ms;transition:150ms}#chart-5b67b3db-e42e-4b56-9ce8-2ea9a5d0b8e4 .graph &gt; .background{fill:rgba(249,249,249,1)}#chart-5b67b3db-e42e-4b56-9ce8-2ea9a5d0b8e4 .plot &gt; .background{fill:rgba(255,255,255,1)}#chart-5b67b3db-e42e-4b56-9ce8-2ea9a5d0b8e4 .graph{fill:rgba(0,0,0,.87)}#chart-5b67b3db-e42e-4b56-9ce8-2ea9a5d0b8e4 text.no_data{fill:rgba(0,0,0,1)}#chart-5b67b3db-e42e-4b56-9ce8-2ea9a5d0b8e4 .title{fill:rgba(0,0,0,1)}#chart-5b67b3db-e42e-4b56-9ce8-2ea9a5d0b8e4 .legends .legend text{fill:rgba(0,0,0,.87)}#chart-5b67b3db-e42e-4b56-9ce8-2ea9a5d0b8e4 .legends .legend:hover text{fill:rgba(0,0,0,1)}#chart-5b67b3db-e42e-4b56-9ce8-2ea9a5d0b8e4 .axis .line{stroke:rgba(0,0,0,1)}#chart-5b67b3db-e42e-4b56-9ce8-2ea9a5d0b8e4 .axis .guide.line{stroke:rgba(0,0,0,.54)}#chart-5b67b3db-e42e-4b56-9ce8-2ea9a5d0b8e4 .axis .major.line{stroke:rgba(0,0,0,.87)}#chart-5b67b3db-e42e-4b56-9ce8-2ea9a5d0b8e4 .axis text.major{fill:rgba(0,0,0,1)}#chart-5b67b3db-e42e-4b56-9ce8-2ea9a5d0b8e4 .axis.y .guides:hover .guide.line,#chart-5b67b3db-e42e-4b56-9ce8-2ea9a5d0b8e4 .line-graph .axis.x .guides:hover .guide.line,#chart-5b67b3db-e42e-4b56-9ce8-2ea9a5d0b8e4 .stackedline-graph .axis.x .guides:hover .guide.line,#chart-5b67b3db-e42e-4b56-9ce8-2ea9a5d0b8e4 .xy-graph .axis.x .guides:hover .guide.line{stroke:rgba(0,0,0,1)}#chart-5b67b3db-e42e-4b56-9ce8-2ea9a5d0b8e4 .axis .guides:hover text{fill:rgba(0,0,0,1)}#chart-5b67b3db-e42e-4b56-9ce8-2ea9a5d0b8e4 .reactive{fill-opacity:.7;stroke-opacity:.8}#chart-5b67b3db-e42e-4b56-9ce8-2ea9a5d0b8e4 .ci{stroke:rgba(0,0,0,.87)}#chart-5b67b3db-e42e-4b56-9ce8-2ea9a5d0b8e4 .reactive.active,#chart-5b67b3db-e42e-4b56-9ce8-2ea9a5d0b8e4 .active .reactive{fill-opacity:.8;stroke-opacity:.9;stroke-width:4}#chart-5b67b3db-e42e-4b56-9ce8-2ea9a5d0b8e4 .ci .reactive.active{stroke-width:1.5}#chart-5b67b3db-e42e-4b56-9ce8-2ea9a5d0b8e4 .series text{fill:rgba(0,0,0,1)}#chart-5b67b3db-e42e-4b56-9ce8-2ea9a5d0b8e4 .tooltip rect{fill:rgba(255,255,255,1);stroke:rgba(0,0,0,1);-webkit-transition:opacity 150ms;-moz-transition:opacity 150ms;transition:opacity 150ms}#chart-5b67b3db-e42e-4b56-9ce8-2ea9a5d0b8e4 .tooltip .label{fill:rgba(0,0,0,.87)}#chart-5b67b3db-e42e-4b56-9ce8-2ea9a5d0b8e4 .tooltip .label{fill:rgba(0,0,0,.87)}#chart-5b67b3db-e42e-4b56-9ce8-2ea9a5d0b8e4 .tooltip .legend{font-size:.8em;fill:rgba(0,0,0,.54)}#chart-5b67b3db-e42e-4b56-9ce8-2ea9a5d0b8e4 .tooltip .x_label{font-size:.6em;fill:rgba(0,0,0,1)}#chart-5b67b3db-e42e-4b56-9ce8-2ea9a5d0b8e4 .tooltip .xlink{font-size:.5em;text-decoration:underline}#chart-5b67b3db-e42e-4b56-9ce8-2ea9a5d0b8e4 .tooltip .value{font-size:1.5em}#chart-5b67b3db-e42e-4b56-9ce8-2ea9a5d0b8e4 .bound{font-size:.5em}#chart-5b67b3db-e42e-4b56-9ce8-2ea9a5d0b8e4 .max-value{font-size:.75em;fill:rgba(0,0,0,.54)}#chart-5b67b3db-e42e-4b56-9ce8-2ea9a5d0b8e4 .map-element{fill:rgba(255,255,255,1);stroke:rgba(0,0,0,.54) !important}#chart-5b67b3db-e42e-4b56-9ce8-2ea9a5d0b8e4 .map-element .reactive{fill-opacity:inherit;stroke-opacity:inherit}#chart-5b67b3db-e42e-4b56-9ce8-2ea9a5d0b8e4 .color-0,#chart-5b67b3db-e42e-4b56-9ce8-2ea9a5d0b8e4 .color-0 a:visited{stroke:#F44336;fill:#F44336}#chart-5b67b3db-e42e-4b56-9ce8-2ea9a5d0b8e4 .color-1,#chart-5b67b3db-e42e-4b56-9ce8-2ea9a5d0b8e4 .color-1 a:visited{stroke:#3F51B5;fill:#3F51B5}#chart-5b67b3db-e42e-4b56-9ce8-2ea9a5d0b8e4 .text-overlay .color-0 text{fill:black}#chart-5b67b3db-e42e-4b56-9ce8-2ea9a5d0b8e4 .text-overlay .color-1 text{fill:black}\n",
       "#chart-5b67b3db-e42e-4b56-9ce8-2ea9a5d0b8e4 text.no_data{text-anchor:middle}#chart-5b67b3db-e42e-4b56-9ce8-2ea9a5d0b8e4 .guide.line{fill:none}#chart-5b67b3db-e42e-4b56-9ce8-2ea9a5d0b8e4 .centered{text-anchor:middle}#chart-5b67b3db-e42e-4b56-9ce8-2ea9a5d0b8e4 .title{text-anchor:middle}#chart-5b67b3db-e42e-4b56-9ce8-2ea9a5d0b8e4 .legends .legend text{fill-opacity:1}#chart-5b67b3db-e42e-4b56-9ce8-2ea9a5d0b8e4 .axis.x text{text-anchor:middle}#chart-5b67b3db-e42e-4b56-9ce8-2ea9a5d0b8e4 .axis.x:not(.web) text[transform]{text-anchor:start}#chart-5b67b3db-e42e-4b56-9ce8-2ea9a5d0b8e4 .axis.x:not(.web) text[transform].backwards{text-anchor:end}#chart-5b67b3db-e42e-4b56-9ce8-2ea9a5d0b8e4 .axis.y text{text-anchor:end}#chart-5b67b3db-e42e-4b56-9ce8-2ea9a5d0b8e4 .axis.y text[transform].backwards{text-anchor:start}#chart-5b67b3db-e42e-4b56-9ce8-2ea9a5d0b8e4 .axis.y2 text{text-anchor:start}#chart-5b67b3db-e42e-4b56-9ce8-2ea9a5d0b8e4 .axis.y2 text[transform].backwards{text-anchor:end}#chart-5b67b3db-e42e-4b56-9ce8-2ea9a5d0b8e4 .axis .guide.line{stroke-dasharray:4,4}#chart-5b67b3db-e42e-4b56-9ce8-2ea9a5d0b8e4 .axis .major.guide.line{stroke-dasharray:6,6}#chart-5b67b3db-e42e-4b56-9ce8-2ea9a5d0b8e4 .horizontal .axis.y .guide.line,#chart-5b67b3db-e42e-4b56-9ce8-2ea9a5d0b8e4 .horizontal .axis.y2 .guide.line,#chart-5b67b3db-e42e-4b56-9ce8-2ea9a5d0b8e4 .vertical .axis.x .guide.line{opacity:0}#chart-5b67b3db-e42e-4b56-9ce8-2ea9a5d0b8e4 .horizontal .axis.always_show .guide.line,#chart-5b67b3db-e42e-4b56-9ce8-2ea9a5d0b8e4 .vertical .axis.always_show .guide.line{opacity:1 !important}#chart-5b67b3db-e42e-4b56-9ce8-2ea9a5d0b8e4 .axis.y .guides:hover .guide.line,#chart-5b67b3db-e42e-4b56-9ce8-2ea9a5d0b8e4 .axis.y2 .guides:hover .guide.line,#chart-5b67b3db-e42e-4b56-9ce8-2ea9a5d0b8e4 .axis.x .guides:hover .guide.line{opacity:1}#chart-5b67b3db-e42e-4b56-9ce8-2ea9a5d0b8e4 .axis .guides:hover text{opacity:1}#chart-5b67b3db-e42e-4b56-9ce8-2ea9a5d0b8e4 .nofill{fill:none}#chart-5b67b3db-e42e-4b56-9ce8-2ea9a5d0b8e4 .subtle-fill{fill-opacity:.2}#chart-5b67b3db-e42e-4b56-9ce8-2ea9a5d0b8e4 .dot{stroke-width:1px;fill-opacity:1}#chart-5b67b3db-e42e-4b56-9ce8-2ea9a5d0b8e4 .dot.active{stroke-width:5px}#chart-5b67b3db-e42e-4b56-9ce8-2ea9a5d0b8e4 .dot.negative{fill:transparent}#chart-5b67b3db-e42e-4b56-9ce8-2ea9a5d0b8e4 text,#chart-5b67b3db-e42e-4b56-9ce8-2ea9a5d0b8e4 tspan{stroke:none !important}#chart-5b67b3db-e42e-4b56-9ce8-2ea9a5d0b8e4 .series text.active{opacity:1}#chart-5b67b3db-e42e-4b56-9ce8-2ea9a5d0b8e4 .tooltip rect{fill-opacity:.95;stroke-width:.5}#chart-5b67b3db-e42e-4b56-9ce8-2ea9a5d0b8e4 .tooltip text{fill-opacity:1}#chart-5b67b3db-e42e-4b56-9ce8-2ea9a5d0b8e4 .showable{visibility:hidden}#chart-5b67b3db-e42e-4b56-9ce8-2ea9a5d0b8e4 .showable.shown{visibility:visible}#chart-5b67b3db-e42e-4b56-9ce8-2ea9a5d0b8e4 .gauge-background{fill:rgba(229,229,229,1);stroke:none}#chart-5b67b3db-e42e-4b56-9ce8-2ea9a5d0b8e4 .bg-lines{stroke:rgba(249,249,249,1);stroke-width:2px}</style><script type=\"text/javascript\">window.pygal = window.pygal || {};window.pygal.config = window.pygal.config || {};window.pygal.config['5b67b3db-e42e-4b56-9ce8-2ea9a5d0b8e4'] = {&quot;allow_interruptions&quot;: false, &quot;box_mode&quot;: &quot;extremes&quot;, &quot;classes&quot;: [&quot;pygal-chart&quot;], &quot;css&quot;: [&quot;file://style.css&quot;, &quot;file://graph.css&quot;], &quot;defs&quot;: [], &quot;disable_xml_declaration&quot;: true, &quot;dots_size&quot;: 2.5, &quot;dynamic_print_values&quot;: false, &quot;explicit_size&quot;: false, &quot;fill&quot;: true, &quot;force_uri_protocol&quot;: &quot;https&quot;, &quot;formatter&quot;: null, &quot;half_pie&quot;: false, &quot;height&quot;: 600, &quot;include_x_axis&quot;: false, &quot;inner_radius&quot;: 0, &quot;interpolate&quot;: null, &quot;interpolation_parameters&quot;: {}, &quot;interpolation_precision&quot;: 250, &quot;inverse_y_axis&quot;: false, &quot;js&quot;: [&quot;//kozea.github.io/pygal.js/2.0.x/pygal-tooltips.min.js&quot;], &quot;legend_at_bottom&quot;: false, &quot;legend_at_bottom_columns&quot;: null, &quot;legend_box_size&quot;: 12, &quot;logarithmic&quot;: false, &quot;margin&quot;: 20, &quot;margin_bottom&quot;: null, &quot;margin_left&quot;: null, &quot;margin_right&quot;: null, &quot;margin_top&quot;: null, &quot;max_scale&quot;: 16, &quot;min_scale&quot;: 4, &quot;missing_value_fill_truncation&quot;: &quot;x&quot;, &quot;no_data_text&quot;: &quot;No data&quot;, &quot;no_prefix&quot;: false, &quot;order_min&quot;: null, &quot;pretty_print&quot;: false, &quot;print_labels&quot;: false, &quot;print_values&quot;: false, &quot;print_values_position&quot;: &quot;center&quot;, &quot;print_zeroes&quot;: true, &quot;range&quot;: null, &quot;rounded_bars&quot;: null, &quot;secondary_range&quot;: null, &quot;show_dots&quot;: true, &quot;show_legend&quot;: true, &quot;show_minor_x_labels&quot;: true, &quot;show_minor_y_labels&quot;: true, &quot;show_only_major_dots&quot;: false, &quot;show_x_guides&quot;: false, &quot;show_x_labels&quot;: true, &quot;show_y_guides&quot;: true, &quot;show_y_labels&quot;: true, &quot;spacing&quot;: 10, &quot;stack_from_top&quot;: false, &quot;strict&quot;: false, &quot;stroke&quot;: true, &quot;stroke_style&quot;: null, &quot;style&quot;: {&quot;background&quot;: &quot;rgba(249, 249, 249, 1)&quot;, &quot;ci_colors&quot;: [], &quot;colors&quot;: [&quot;#F44336&quot;, &quot;#3F51B5&quot;, &quot;#009688&quot;, &quot;#FFC107&quot;, &quot;#FF5722&quot;, &quot;#9C27B0&quot;, &quot;#03A9F4&quot;, &quot;#8BC34A&quot;, &quot;#FF9800&quot;, &quot;#E91E63&quot;, &quot;#2196F3&quot;, &quot;#4CAF50&quot;, &quot;#FFEB3B&quot;, &quot;#673AB7&quot;, &quot;#00BCD4&quot;, &quot;#CDDC39&quot;, &quot;#9E9E9E&quot;, &quot;#607D8B&quot;], &quot;font_family&quot;: &quot;Consolas, \\&quot;Liberation Mono\\&quot;, Menlo, Courier, monospace&quot;, &quot;foreground&quot;: &quot;rgba(0, 0, 0, .87)&quot;, &quot;foreground_strong&quot;: &quot;rgba(0, 0, 0, 1)&quot;, &quot;foreground_subtle&quot;: &quot;rgba(0, 0, 0, .54)&quot;, &quot;guide_stroke_dasharray&quot;: &quot;4,4&quot;, &quot;label_font_family&quot;: &quot;Consolas, \\&quot;Liberation Mono\\&quot;, Menlo, Courier, monospace&quot;, &quot;label_font_size&quot;: 10, &quot;legend_font_family&quot;: &quot;Consolas, \\&quot;Liberation Mono\\&quot;, Menlo, Courier, monospace&quot;, &quot;legend_font_size&quot;: 14, &quot;major_guide_stroke_dasharray&quot;: &quot;6,6&quot;, &quot;major_label_font_family&quot;: &quot;Consolas, \\&quot;Liberation Mono\\&quot;, Menlo, Courier, monospace&quot;, &quot;major_label_font_size&quot;: 10, &quot;no_data_font_family&quot;: &quot;Consolas, \\&quot;Liberation Mono\\&quot;, Menlo, Courier, monospace&quot;, &quot;no_data_font_size&quot;: 64, &quot;opacity&quot;: &quot;.7&quot;, &quot;opacity_hover&quot;: &quot;.8&quot;, &quot;plot_background&quot;: &quot;rgba(255, 255, 255, 1)&quot;, &quot;stroke_opacity&quot;: &quot;.8&quot;, &quot;stroke_opacity_hover&quot;: &quot;.9&quot;, &quot;title_font_family&quot;: &quot;Consolas, \\&quot;Liberation Mono\\&quot;, Menlo, Courier, monospace&quot;, &quot;title_font_size&quot;: 16, &quot;tooltip_font_family&quot;: &quot;Consolas, \\&quot;Liberation Mono\\&quot;, Menlo, Courier, monospace&quot;, &quot;tooltip_font_size&quot;: 14, &quot;transition&quot;: &quot;150ms&quot;, &quot;value_background&quot;: &quot;rgba(229, 229, 229, 1)&quot;, &quot;value_colors&quot;: [], &quot;value_font_family&quot;: &quot;Consolas, \\&quot;Liberation Mono\\&quot;, Menlo, Courier, monospace&quot;, &quot;value_font_size&quot;: 16, &quot;value_label_font_family&quot;: &quot;Consolas, \\&quot;Liberation Mono\\&quot;, Menlo, Courier, monospace&quot;, &quot;value_label_font_size&quot;: 10}, &quot;title&quot;: &quot;Hours spend on Social Media&quot;, &quot;tooltip_border_radius&quot;: 0, &quot;tooltip_fancy_mode&quot;: true, &quot;truncate_label&quot;: null, &quot;truncate_legend&quot;: null, &quot;width&quot;: 800, &quot;x_label_rotation&quot;: 0, &quot;x_labels&quot;: [&quot;Monday&quot;, &quot;Tuesday&quot;, &quot;Wednesday&quot;, &quot;Thursday&quot;, &quot;Friday&quot;], &quot;x_labels_major&quot;: null, &quot;x_labels_major_count&quot;: null, &quot;x_labels_major_every&quot;: null, &quot;x_title&quot;: null, &quot;xrange&quot;: null, &quot;y_label_rotation&quot;: 0, &quot;y_labels&quot;: null, &quot;y_labels_major&quot;: null, &quot;y_labels_major_count&quot;: null, &quot;y_labels_major_every&quot;: null, &quot;y_title&quot;: null, &quot;zero&quot;: 0, &quot;legends&quot;: [&quot;facebook&quot;, &quot;twitter&quot;]}</script><script type=\"text/javascript\" xlink:href=\"https://kozea.github.io/pygal.js/2.0.x/pygal-tooltips.min.js\"/></defs><title>Hours spend on Social Media</title><g class=\"graph stackedline-graph vertical\"><rect class=\"background\" height=\"600\" width=\"800\" x=\"0\" y=\"0\"/><g class=\"plot\" transform=\"translate(129, 46)\"><rect class=\"background\" height=\"514\" width=\"650.8\" x=\"0\" y=\"0\"/><g class=\"axis y always_show\"><path class=\"line\" d=\"M0.000000 514.000000 h650.800000\"/><g class=\"guides\"><path class=\"guide line\" d=\"M0.000000 483.942700 h650.800000\"/><text class=\"\" x=\"-5\" y=\"487.44270015698584\">2</text><title>2</title></g><g class=\"guides\"><path class=\"guide line\" d=\"M0.000000 383.079278 h650.800000\"/><text class=\"\" x=\"-5\" y=\"386.57927786499215\">3</text><title>3</title></g><g class=\"guides\"><path class=\"guide line\" d=\"M0.000000 282.215856 h650.800000\"/><text class=\"\" x=\"-5\" y=\"285.7158555729984\">4</text><title>4</title></g><g class=\"guides\"><path class=\"major guide line\" d=\"M0.000000 181.352433 h650.800000\"/><text class=\"major\" x=\"-5\" y=\"184.85243328100466\">5</text><title>5</title></g><g class=\"guides\"><path class=\"guide line\" d=\"M0.000000 80.489011 h650.800000\"/><text class=\"\" x=\"-5\" y=\"83.98901098901092\">6</text><title>6</title></g></g><g class=\"axis x\"><g class=\"guides\"><path class=\"line\" d=\"M12.515385 0.000000 v514.000000\"/><text class=\"\" x=\"12.515384615384615\" y=\"529.0\">Monday</text></g><g class=\"guides\"><path class=\"guide line\" d=\"M168.957692 0.000000 v514.000000\"/><text class=\"\" x=\"168.9576923076923\" y=\"529.0\">Tuesday</text></g><g class=\"guides\"><path class=\"guide line\" d=\"M325.400000 0.000000 v514.000000\"/><text class=\"\" x=\"325.4\" y=\"529.0\">Wednesday</text></g><g class=\"guides\"><path class=\"guide line\" d=\"M481.842308 0.000000 v514.000000\"/><text class=\"\" x=\"481.84230769230766\" y=\"529.0\">Thursday</text></g><g class=\"guides\"><path class=\"guide line\" d=\"M638.284615 0.000000 v514.000000\"/><text class=\"\" x=\"638.2846153846153\" y=\"529.0\">Friday</text></g></g><g class=\"series serie-0 color-0\"><path class=\"line reactive\" d=\"M12.515385 514.000000 L12.515385 473.856358 168.957692 443.597331 325.400000 504.115385 481.842308 251.956829 638.284615 413.338305 638.284615 514.000000\"/></g><g class=\"series serie-1 color-1\"><path class=\"line reactive\" d=\"M12.515385 312.474882 L168.957692 403.251962 325.400000 423.424647 481.842308 9.884615 638.284615 292.302198 638.284615 413.338305 481.842308 251.956829 325.400000 504.115385 168.957692 443.597331 12.515385 473.856358\"/></g></g><g class=\"titles\"><text class=\"title plot_title\" x=\"400.0\" y=\"26\">Hours spend on Social Media</text></g><g class=\"plot overlay\" transform=\"translate(129, 46)\"><g class=\"series serie-0 color-0\"><g class=\"dots\"><circle class=\"dot reactive tooltip-trigger\" cx=\"12.515384615384615\" cy=\"473.85635792778646\" r=\"2.5\"/><desc class=\"value\">2.1</desc><desc class=\"x top\">12.515384615384615</desc><desc class=\"y top\">473.85635792778646</desc><desc class=\"x_label\">Monday</desc></g><g class=\"dots\"><circle class=\"dot reactive tooltip-trigger\" cx=\"168.9576923076923\" cy=\"443.5973312401884\" r=\"2.5\"/><desc class=\"value\">2.4</desc><desc class=\"x top\">168.9576923076923</desc><desc class=\"y top\">443.5973312401884</desc><desc class=\"x_label\">Tuesday</desc></g><g class=\"dots\"><circle class=\"dot reactive tooltip-trigger\" cx=\"325.4\" cy=\"504.1153846153846\" r=\"2.5\"/><desc class=\"value\">1.8</desc><desc class=\"x top\">325.4</desc><desc class=\"y top\">504.1153846153846</desc><desc class=\"x_label\">Wednesday</desc></g><g class=\"dots\"><circle class=\"dot reactive tooltip-trigger\" cx=\"481.84230769230766\" cy=\"251.95682888540028\" r=\"2.5\"/><desc class=\"value\">4.3</desc><desc class=\"x left\">481.84230769230766</desc><desc class=\"y left\">251.95682888540028</desc><desc class=\"x_label\">Thursday</desc></g><g class=\"dots\"><circle class=\"dot reactive tooltip-trigger\" cx=\"638.2846153846153\" cy=\"413.3383045525902\" r=\"2.5\"/><desc class=\"value\">2.7</desc><desc class=\"x left top\">638.2846153846153</desc><desc class=\"y left top\">413.3383045525902</desc><desc class=\"x_label\">Friday</desc></g></g><g class=\"series serie-1 color-1\"><g class=\"dots\"><circle class=\"dot reactive tooltip-trigger\" cx=\"12.515384615384615\" cy=\"312.4748822605965\" r=\"2.5\"/><desc class=\"value\">3.7 (+1.6)</desc><desc class=\"x top\">12.515384615384615</desc><desc class=\"y top\">312.4748822605965</desc><desc class=\"x_label\">Monday</desc></g><g class=\"dots\"><circle class=\"dot reactive tooltip-trigger\" cx=\"168.9576923076923\" cy=\"403.2519623233909\" r=\"2.5\"/><desc class=\"value\">2.8 (+0.4)</desc><desc class=\"x top\">168.9576923076923</desc><desc class=\"y top\">403.2519623233909</desc><desc class=\"x_label\">Tuesday</desc></g><g class=\"dots\"><circle class=\"dot reactive tooltip-trigger\" cx=\"325.4\" cy=\"423.42464678178965\" r=\"2.5\"/><desc class=\"value\">2.6 (+0.8)</desc><desc class=\"x top\">325.4</desc><desc class=\"y top\">423.42464678178965</desc><desc class=\"x_label\">Wednesday</desc></g><g class=\"dots\"><circle class=\"dot reactive tooltip-trigger\" cx=\"481.84230769230766\" cy=\"9.884615384615358\" r=\"2.5\"/><desc class=\"value\">6.7 (+2.4)</desc><desc class=\"x left\">481.84230769230766</desc><desc class=\"y left\">9.884615384615358</desc><desc class=\"x_label\">Thursday</desc></g><g class=\"dots\"><circle class=\"dot reactive tooltip-trigger\" cx=\"638.2846153846153\" cy=\"292.3021978021977\" r=\"2.5\"/><desc class=\"value\">3.9 (+1.2)</desc><desc class=\"x left top\">638.2846153846153</desc><desc class=\"y left top\">292.3021978021977</desc><desc class=\"x_label\">Friday</desc></g></g></g><g class=\"plot text-overlay\" transform=\"translate(129, 46)\"><g class=\"series serie-0 color-0\"/><g class=\"series serie-1 color-1\"/></g><g class=\"plot tooltip-overlay\" transform=\"translate(129, 46)\"><g class=\"tooltip\" style=\"opacity: 0\" transform=\"translate(0 0)\"><rect class=\"tooltip-box\" height=\"0\" rx=\"0\" ry=\"0\" width=\"0\"/><g class=\"text\"/></g></g><g class=\"legends\" transform=\"translate(10, 56)\"><g class=\"legend reactive activate-serie\" id=\"activate-serie-0\"><rect class=\"color-0 reactive\" height=\"12\" width=\"12\" x=\"0.0\" y=\"1.0\"/><text x=\"17.0\" y=\"11.2\">facebook</text></g><g class=\"legend reactive activate-serie\" id=\"activate-serie-1\"><rect class=\"color-1 reactive\" height=\"12\" width=\"12\" x=\"0.0\" y=\"22.0\"/><text x=\"17.0\" y=\"32.2\">twitter</text></g></g><g class=\"legends\" transform=\"translate(790, 56)\"/></g></svg>"
      ],
      "text/plain": [
       "<IPython.core.display.SVG object>"
      ]
     },
     "metadata": {},
     "output_type": "display_data"
    }
   ],
   "source": [
    "display(SVG(stackedline_chart.render(disable_xml_declaration=True)))"
   ]
  }
 ],
 "metadata": {
  "kernelspec": {
   "display_name": "Python 3",
   "language": "python",
   "name": "python3"
  },
  "language_info": {
   "codemirror_mode": {
    "name": "ipython",
    "version": 3
   },
   "file_extension": ".py",
   "mimetype": "text/x-python",
   "name": "python",
   "nbconvert_exporter": "python",
   "pygments_lexer": "ipython3",
   "version": "3.7.0"
  }
 },
 "nbformat": 4,
 "nbformat_minor": 2
}
